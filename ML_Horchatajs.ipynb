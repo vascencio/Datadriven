{
 "cells": [
  {
   "cell_type": "markdown",
   "metadata": {},
   "source": [
    "# Analisis de datos con Machine Learning."
   ]
  },
  {
   "cell_type": "markdown",
   "metadata": {},
   "source": [
    "## Regresion Lineal Simple. Uso de servicio de datos."
   ]
  },
  {
   "cell_type": "markdown",
   "metadata": {},
   "source": [
    "\n",
    "## Importacion de liberias "
   ]
  },
  {
   "cell_type": "code",
   "execution_count": 304,
   "metadata": {},
   "outputs": [],
   "source": [
    "# Importacion de librerias de analisis de datos.\n",
    "import numpy as np\n",
    "import pandas as pd\n",
    "import seaborn as sns\n",
    "import matplotlib.pyplot as plt\n",
    "\n",
    "# import datetime class from datetime module\n",
    "import time\n",
    "import datetime\n",
    "from datetime import date\n",
    "%matplotlib inline\n",
    "# Importar el modelo de seleccion de variables del entreamiento y prueba.\n",
    "from sklearn.model_selection import train_test_split\n",
    "# Importar el modelo de Regresión Lienal Simple con el conjunto de entrenamiento\n",
    "from sklearn.linear_model import LinearRegression\n"
   ]
  },
  {
   "cell_type": "code",
   "execution_count": 306,
   "metadata": {},
   "outputs": [],
   "source": [
    "# Importar el data set desde el archivo CSV\n",
    "df = pd.read_csv('AllTxBytes-2019V3.csv')"
   ]
  },
  {
   "cell_type": "code",
   "execution_count": 307,
   "metadata": {},
   "outputs": [
    {
     "data": {
      "text/html": [
       "<div>\n",
       "<style scoped>\n",
       "    .dataframe tbody tr th:only-of-type {\n",
       "        vertical-align: middle;\n",
       "    }\n",
       "\n",
       "    .dataframe tbody tr th {\n",
       "        vertical-align: top;\n",
       "    }\n",
       "\n",
       "    .dataframe thead th {\n",
       "        text-align: right;\n",
       "    }\n",
       "</style>\n",
       "<table border=\"1\" class=\"dataframe\">\n",
       "  <thead>\n",
       "    <tr style=\"text-align: right;\">\n",
       "      <th></th>\n",
       "      <th>0</th>\n",
       "      <th>1</th>\n",
       "      <th>2</th>\n",
       "      <th>3</th>\n",
       "      <th>4</th>\n",
       "      <th>5</th>\n",
       "      <th>6</th>\n",
       "      <th>7</th>\n",
       "      <th>8</th>\n",
       "      <th>9</th>\n",
       "      <th>...</th>\n",
       "      <th>355</th>\n",
       "      <th>356</th>\n",
       "      <th>357</th>\n",
       "      <th>358</th>\n",
       "      <th>359</th>\n",
       "      <th>360</th>\n",
       "      <th>361</th>\n",
       "      <th>362</th>\n",
       "      <th>363</th>\n",
       "      <th>364</th>\n",
       "    </tr>\n",
       "  </thead>\n",
       "  <tbody>\n",
       "    <tr>\n",
       "      <th>0</th>\n",
       "      <td>1.000000e+00</td>\n",
       "      <td>2.000000e+00</td>\n",
       "      <td>3.000000e+00</td>\n",
       "      <td>4.000000e+00</td>\n",
       "      <td>5.000000e+00</td>\n",
       "      <td>6.000000e+00</td>\n",
       "      <td>7.000000e+00</td>\n",
       "      <td>8.000000e+00</td>\n",
       "      <td>9.000000e+00</td>\n",
       "      <td>1.000000e+01</td>\n",
       "      <td>...</td>\n",
       "      <td>3.560000e+02</td>\n",
       "      <td>3.570000e+02</td>\n",
       "      <td>3.580000e+02</td>\n",
       "      <td>3.590000e+02</td>\n",
       "      <td>3.600000e+02</td>\n",
       "      <td>3.610000e+02</td>\n",
       "      <td>3.620000e+02</td>\n",
       "      <td>3.630000e+02</td>\n",
       "      <td>3.640000e+02</td>\n",
       "      <td>3.650000e+02</td>\n",
       "    </tr>\n",
       "    <tr>\n",
       "      <th>1</th>\n",
       "      <td>1.500000e+12</td>\n",
       "      <td>1.550000e+12</td>\n",
       "      <td>1.550000e+12</td>\n",
       "      <td>1.620000e+12</td>\n",
       "      <td>1.560000e+12</td>\n",
       "      <td>1.670000e+12</td>\n",
       "      <td>1.550000e+12</td>\n",
       "      <td>1.540000e+12</td>\n",
       "      <td>1.560000e+12</td>\n",
       "      <td>1.570000e+12</td>\n",
       "      <td>...</td>\n",
       "      <td>2.520000e+12</td>\n",
       "      <td>2.450000e+12</td>\n",
       "      <td>2.230000e+12</td>\n",
       "      <td>2.490000e+12</td>\n",
       "      <td>2.560000e+12</td>\n",
       "      <td>2.600000e+12</td>\n",
       "      <td>2.520000e+12</td>\n",
       "      <td>2.560000e+12</td>\n",
       "      <td>2.540000e+12</td>\n",
       "      <td>2.180000e+12</td>\n",
       "    </tr>\n",
       "  </tbody>\n",
       "</table>\n",
       "<p>2 rows × 365 columns</p>\n",
       "</div>"
      ],
      "text/plain": [
       "              0             1             2             3             4  \\\n",
       "0  1.000000e+00  2.000000e+00  3.000000e+00  4.000000e+00  5.000000e+00   \n",
       "1  1.500000e+12  1.550000e+12  1.550000e+12  1.620000e+12  1.560000e+12   \n",
       "\n",
       "              5             6             7             8             9  \\\n",
       "0  6.000000e+00  7.000000e+00  8.000000e+00  9.000000e+00  1.000000e+01   \n",
       "1  1.670000e+12  1.550000e+12  1.540000e+12  1.560000e+12  1.570000e+12   \n",
       "\n",
       "       ...                355           356           357           358  \\\n",
       "0      ...       3.560000e+02  3.570000e+02  3.580000e+02  3.590000e+02   \n",
       "1      ...       2.520000e+12  2.450000e+12  2.230000e+12  2.490000e+12   \n",
       "\n",
       "            359           360           361           362           363  \\\n",
       "0  3.600000e+02  3.610000e+02  3.620000e+02  3.630000e+02  3.640000e+02   \n",
       "1  2.560000e+12  2.600000e+12  2.520000e+12  2.560000e+12  2.540000e+12   \n",
       "\n",
       "            364  \n",
       "0  3.650000e+02  \n",
       "1  2.180000e+12  \n",
       "\n",
       "[2 rows x 365 columns]"
      ]
     },
     "execution_count": 307,
     "metadata": {},
     "output_type": "execute_result"
    }
   ],
   "source": [
    "df"
   ]
  },
  {
   "cell_type": "code",
   "execution_count": 308,
   "metadata": {},
   "outputs": [],
   "source": [
    "# Asignacion de nombre de filas.\n",
    "df.rename(\n",
    "  index ={\n",
    "    0 : 'fecha',\n",
    "    1 : 'tx_bytes'\n",
    " },\n",
    "  inplace=True\n",
    ")"
   ]
  },
  {
   "cell_type": "code",
   "execution_count": 309,
   "metadata": {},
   "outputs": [
    {
     "data": {
      "text/html": [
       "<div>\n",
       "<style scoped>\n",
       "    .dataframe tbody tr th:only-of-type {\n",
       "        vertical-align: middle;\n",
       "    }\n",
       "\n",
       "    .dataframe tbody tr th {\n",
       "        vertical-align: top;\n",
       "    }\n",
       "\n",
       "    .dataframe thead th {\n",
       "        text-align: right;\n",
       "    }\n",
       "</style>\n",
       "<table border=\"1\" class=\"dataframe\">\n",
       "  <thead>\n",
       "    <tr style=\"text-align: right;\">\n",
       "      <th></th>\n",
       "      <th>0</th>\n",
       "      <th>1</th>\n",
       "      <th>2</th>\n",
       "      <th>3</th>\n",
       "      <th>4</th>\n",
       "      <th>5</th>\n",
       "      <th>6</th>\n",
       "      <th>7</th>\n",
       "      <th>8</th>\n",
       "      <th>9</th>\n",
       "      <th>...</th>\n",
       "      <th>355</th>\n",
       "      <th>356</th>\n",
       "      <th>357</th>\n",
       "      <th>358</th>\n",
       "      <th>359</th>\n",
       "      <th>360</th>\n",
       "      <th>361</th>\n",
       "      <th>362</th>\n",
       "      <th>363</th>\n",
       "      <th>364</th>\n",
       "    </tr>\n",
       "  </thead>\n",
       "  <tbody>\n",
       "    <tr>\n",
       "      <th>fecha</th>\n",
       "      <td>1.000000e+00</td>\n",
       "      <td>2.000000e+00</td>\n",
       "      <td>3.000000e+00</td>\n",
       "      <td>4.000000e+00</td>\n",
       "      <td>5.000000e+00</td>\n",
       "      <td>6.000000e+00</td>\n",
       "      <td>7.000000e+00</td>\n",
       "      <td>8.000000e+00</td>\n",
       "      <td>9.000000e+00</td>\n",
       "      <td>1.000000e+01</td>\n",
       "      <td>...</td>\n",
       "      <td>3.560000e+02</td>\n",
       "      <td>3.570000e+02</td>\n",
       "      <td>3.580000e+02</td>\n",
       "      <td>3.590000e+02</td>\n",
       "      <td>3.600000e+02</td>\n",
       "      <td>3.610000e+02</td>\n",
       "      <td>3.620000e+02</td>\n",
       "      <td>3.630000e+02</td>\n",
       "      <td>3.640000e+02</td>\n",
       "      <td>3.650000e+02</td>\n",
       "    </tr>\n",
       "    <tr>\n",
       "      <th>tx_bytes</th>\n",
       "      <td>1.500000e+12</td>\n",
       "      <td>1.550000e+12</td>\n",
       "      <td>1.550000e+12</td>\n",
       "      <td>1.620000e+12</td>\n",
       "      <td>1.560000e+12</td>\n",
       "      <td>1.670000e+12</td>\n",
       "      <td>1.550000e+12</td>\n",
       "      <td>1.540000e+12</td>\n",
       "      <td>1.560000e+12</td>\n",
       "      <td>1.570000e+12</td>\n",
       "      <td>...</td>\n",
       "      <td>2.520000e+12</td>\n",
       "      <td>2.450000e+12</td>\n",
       "      <td>2.230000e+12</td>\n",
       "      <td>2.490000e+12</td>\n",
       "      <td>2.560000e+12</td>\n",
       "      <td>2.600000e+12</td>\n",
       "      <td>2.520000e+12</td>\n",
       "      <td>2.560000e+12</td>\n",
       "      <td>2.540000e+12</td>\n",
       "      <td>2.180000e+12</td>\n",
       "    </tr>\n",
       "  </tbody>\n",
       "</table>\n",
       "<p>2 rows × 365 columns</p>\n",
       "</div>"
      ],
      "text/plain": [
       "                     0             1             2             3  \\\n",
       "fecha     1.000000e+00  2.000000e+00  3.000000e+00  4.000000e+00   \n",
       "tx_bytes  1.500000e+12  1.550000e+12  1.550000e+12  1.620000e+12   \n",
       "\n",
       "                     4             5             6             7  \\\n",
       "fecha     5.000000e+00  6.000000e+00  7.000000e+00  8.000000e+00   \n",
       "tx_bytes  1.560000e+12  1.670000e+12  1.550000e+12  1.540000e+12   \n",
       "\n",
       "                     8             9      ...                355  \\\n",
       "fecha     9.000000e+00  1.000000e+01      ...       3.560000e+02   \n",
       "tx_bytes  1.560000e+12  1.570000e+12      ...       2.520000e+12   \n",
       "\n",
       "                   356           357           358           359  \\\n",
       "fecha     3.570000e+02  3.580000e+02  3.590000e+02  3.600000e+02   \n",
       "tx_bytes  2.450000e+12  2.230000e+12  2.490000e+12  2.560000e+12   \n",
       "\n",
       "                   360           361           362           363           364  \n",
       "fecha     3.610000e+02  3.620000e+02  3.630000e+02  3.640000e+02  3.650000e+02  \n",
       "tx_bytes  2.600000e+12  2.520000e+12  2.560000e+12  2.540000e+12  2.180000e+12  \n",
       "\n",
       "[2 rows x 365 columns]"
      ]
     },
     "execution_count": 309,
     "metadata": {},
     "output_type": "execute_result"
    }
   ],
   "source": [
    "# Formato de los datos esta filas.\n",
    "df.head()"
   ]
  },
  {
   "cell_type": "code",
   "execution_count": 310,
   "metadata": {},
   "outputs": [],
   "source": [
    "# Es necesario cambiar de filas a columnas y asignarlo a un nuevo dataframe.\n",
    "\n",
    "df_Trafico=df.T"
   ]
  },
  {
   "cell_type": "code",
   "execution_count": 311,
   "metadata": {},
   "outputs": [
    {
     "data": {
      "text/html": [
       "<div>\n",
       "<style scoped>\n",
       "    .dataframe tbody tr th:only-of-type {\n",
       "        vertical-align: middle;\n",
       "    }\n",
       "\n",
       "    .dataframe tbody tr th {\n",
       "        vertical-align: top;\n",
       "    }\n",
       "\n",
       "    .dataframe thead th {\n",
       "        text-align: right;\n",
       "    }\n",
       "</style>\n",
       "<table border=\"1\" class=\"dataframe\">\n",
       "  <thead>\n",
       "    <tr style=\"text-align: right;\">\n",
       "      <th></th>\n",
       "      <th>fecha</th>\n",
       "      <th>tx_bytes</th>\n",
       "    </tr>\n",
       "  </thead>\n",
       "  <tbody>\n",
       "    <tr>\n",
       "      <th>0</th>\n",
       "      <td>1.0</td>\n",
       "      <td>1.500000e+12</td>\n",
       "    </tr>\n",
       "    <tr>\n",
       "      <th>1</th>\n",
       "      <td>2.0</td>\n",
       "      <td>1.550000e+12</td>\n",
       "    </tr>\n",
       "    <tr>\n",
       "      <th>2</th>\n",
       "      <td>3.0</td>\n",
       "      <td>1.550000e+12</td>\n",
       "    </tr>\n",
       "    <tr>\n",
       "      <th>3</th>\n",
       "      <td>4.0</td>\n",
       "      <td>1.620000e+12</td>\n",
       "    </tr>\n",
       "    <tr>\n",
       "      <th>4</th>\n",
       "      <td>5.0</td>\n",
       "      <td>1.560000e+12</td>\n",
       "    </tr>\n",
       "  </tbody>\n",
       "</table>\n",
       "</div>"
      ],
      "text/plain": [
       "   fecha      tx_bytes\n",
       "0    1.0  1.500000e+12\n",
       "1    2.0  1.550000e+12\n",
       "2    3.0  1.550000e+12\n",
       "3    4.0  1.620000e+12\n",
       "4    5.0  1.560000e+12"
      ]
     },
     "execution_count": 311,
     "metadata": {},
     "output_type": "execute_result"
    }
   ],
   "source": [
    "# Verificación del resultado.\n",
    "df_Trafico.head()"
   ]
  },
  {
   "cell_type": "code",
   "execution_count": 324,
   "metadata": {},
   "outputs": [
    {
     "name": "stdout",
     "output_type": "stream",
     "text": [
      "Dataset: (365, 2)\n"
     ]
    }
   ],
   "source": [
    "print(\"Dataset: {}\".format(df_Trafico.shape))"
   ]
  },
  {
   "cell_type": "code",
   "execution_count": 325,
   "metadata": {},
   "outputs": [
    {
     "name": "stdout",
     "output_type": "stream",
     "text": [
      "Columns: Index(['fecha', 'tx_bytes'], dtype='object')\n"
     ]
    }
   ],
   "source": [
    "print(\"Columns: {}\".format(df_Trafico.columns))\n"
   ]
  },
  {
   "cell_type": "code",
   "execution_count": 312,
   "metadata": {},
   "outputs": [],
   "source": [
    "# Asignacion de variables dependiente e independiente para el analisis.\n",
    "X = df_Trafico.iloc[:, :-1].values\n",
    "y = df_Trafico.iloc[:, 1].values\n"
   ]
  },
  {
   "cell_type": "code",
   "execution_count": 313,
   "metadata": {},
   "outputs": [],
   "source": [
    "# Dividir el data set en conjunto de entrenamiento y conjunto de testing al 20%\n",
    "X_train, X_test, y_train, y_test = train_test_split(X, y, test_size = 0.2, random_state = 0)"
   ]
  },
  {
   "cell_type": "code",
   "execution_count": 334,
   "metadata": {},
   "outputs": [],
   "source": [
    "# Crear modelo de Regresión Lienal Simple con el conjunto de entrenamiento\n",
    "regression = LinearRegression()\n",
    "# Con el metodo fit se entrena el modelo con los datos de entrenamiento.\n",
    "modelo = regression.fit(X_train, y_train)"
   ]
  },
  {
   "cell_type": "code",
   "execution_count": 336,
   "metadata": {},
   "outputs": [],
   "source": [
    "r_sq = modelo.score(X_train, y_train)"
   ]
  },
  {
   "cell_type": "code",
   "execution_count": 337,
   "metadata": {},
   "outputs": [
    {
     "name": "stdout",
     "output_type": "stream",
     "text": [
      "coefficient of determination: 0.7798338892304097\n"
     ]
    }
   ],
   "source": [
    "print('coefficient of determination:', r_sq)"
   ]
  },
  {
   "cell_type": "code",
   "execution_count": 339,
   "metadata": {},
   "outputs": [
    {
     "name": "stdout",
     "output_type": "stream",
     "text": [
      "intercept: 1552316603506.5942\n"
     ]
    }
   ],
   "source": [
    "print('intercept:', modelo.intercept_)"
   ]
  },
  {
   "cell_type": "code",
   "execution_count": 340,
   "metadata": {},
   "outputs": [
    {
     "name": "stdout",
     "output_type": "stream",
     "text": [
      "coefficients: [2.53076891e+09]\n"
     ]
    }
   ],
   "source": [
    "print('coefficients:', modelo.coef_)"
   ]
  },
  {
   "cell_type": "code",
   "execution_count": 341,
   "metadata": {},
   "outputs": [],
   "source": [
    "# Evaluacion del conjunto de test\n",
    "y_pred = regression.predict(X_test)\n"
   ]
  },
  {
   "cell_type": "code",
   "execution_count": 319,
   "metadata": {},
   "outputs": [
    {
     "data": {
      "image/png": "[encoded data removed]",
      "text/plain": [
       "<Figure size 432x288 with 1 Axes>"
      ]
     },
     "metadata": {
      "needs_background": "light"
     },
     "output_type": "display_data"
    }
   ],
   "source": [
    "# Visualizar los resultados de entrenamiento\n",
    "plt.scatter(X_train, y_train, color = \"red\")\n",
    "plt.plot(X_train, regression.predict(X_train), color = \"blue\")\n",
    "plt.title(\"Trafico de datos entrenamiento de servicio X\")\n",
    "plt.xlabel(\"Trafico por dia del año\")\n",
    "plt.ylabel(\"Trafico en bytes\")\n",
    "plt.show()"
   ]
  },
  {
   "cell_type": "code",
   "execution_count": 318,
   "metadata": {},
   "outputs": [
    {
     "data": {
      "image/png": "[encoded data removed]",
      "text/plain": [
       "<Figure size 432x288 with 1 Axes>"
      ]
     },
     "metadata": {
      "needs_background": "light"
     },
     "output_type": "display_data"
    }
   ],
   "source": [
    "# Visualizar los resultados de test\n",
    "plt.scatter(X_test, y_test, color = \"red\")\n",
    "plt.plot(X_train, regression.predict(X_train), color = \"blue\")\n",
    "plt.title(\"Trafico de datos Test de servicio X \")\n",
    "plt.xlabel(\"Trafico por dia del año\")\n",
    "plt.ylabel(\"Trafico en bytes\")\n",
    "plt.show()"
   ]
  },
  {
   "cell_type": "code",
   "execution_count": 345,
   "metadata": {},
   "outputs": [
    {
     "name": "stdout",
     "output_type": "stream",
     "text": [
      "La presición del modelo es :77.98%\n"
     ]
    }
   ],
   "source": [
    "print(\"La presición del modelo es :\"+ str(round(modelo.score(X_train,y_train)*100,2))+\"%\")"
   ]
  },
  {
   "cell_type": "code",
   "execution_count": 393,
   "metadata": {},
   "outputs": [],
   "source": [
    "df1 = pd.read_csv('AllTxBytes-2019V5.csv')"
   ]
  },
  {
   "cell_type": "code",
   "execution_count": 394,
   "metadata": {},
   "outputs": [],
   "source": [
    "# Asignacion de nombre de filas.\n",
    "df1.rename(\n",
    "  index ={\n",
    "    0 : 'fecha',\n",
    "    1 : 'tx_bytes'\n",
    " },\n",
    "  inplace=True\n",
    ")"
   ]
  },
  {
   "cell_type": "code",
   "execution_count": 395,
   "metadata": {},
   "outputs": [],
   "source": [
    "df_Trafico1=df1.T"
   ]
  },
  {
   "cell_type": "code",
   "execution_count": 396,
   "metadata": {},
   "outputs": [],
   "source": [
    "X = df_Trafico1.iloc[:, :-1].values\n",
    "y = df_Trafico1.iloc[:, 1].values\n"
   ]
  },
  {
   "cell_type": "code",
   "execution_count": 397,
   "metadata": {},
   "outputs": [],
   "source": [
    "# Dividir el data set en conjunto de entrenamiento y conjunto de testing al 20%\n",
    "X_train, X_test, y_train, y_test = train_test_split(X, y, test_size = 0.2, random_state = 0)"
   ]
  },
  {
   "cell_type": "code",
   "execution_count": 398,
   "metadata": {},
   "outputs": [],
   "source": [
    "# Crear modelo de Regresión Lienal Simple con el conjunto de entrenamiento\n",
    "regression = LinearRegression()\n",
    "# Con el metodo fit se entrena el modelo con los datos de entrenamiento.\n",
    "modelo = regression.fit(X_train, y_train)"
   ]
  },
  {
   "cell_type": "code",
   "execution_count": 399,
   "metadata": {},
   "outputs": [],
   "source": [
    "# Evaluacion del conjunto de test\n",
    "y_pred = regression.predict(X_test)"
   ]
  },
  {
   "cell_type": "code",
   "execution_count": 402,
   "metadata": {},
   "outputs": [
    {
     "data": {
      "image/png": "[encoded data removed]",
      "text/plain": [
       "<Figure size 432x288 with 1 Axes>"
      ]
     },
     "metadata": {
      "needs_background": "light"
     },
     "output_type": "display_data"
    }
   ],
   "source": [
    "# Visualizar los resultados de entrenamiento\n",
    "plt.scatter(X_train, y_train, color = \"red\")\n",
    "plt.plot(X_train, regression.predict(X_train), color = \"blue\")\n",
    "plt.title(\"Trafico de datos entrenamiento de servicio X\")\n",
    "plt.xlabel(\"Trafico por dia del año\")\n",
    "plt.ylabel(\"Trafico en Gbytes\")\n",
    "plt.show()"
   ]
  },
  {
   "cell_type": "code",
   "execution_count": 403,
   "metadata": {},
   "outputs": [
    {
     "name": "stdout",
     "output_type": "stream",
     "text": [
      "La presición del modelo es :93.69%\n"
     ]
    }
   ],
   "source": [
    "print(\"La presición del modelo es :\"+ str(round(modelo.score(X_train,y_train)*100,2))+\"%\")"
   ]
  },
  {
   "cell_type": "code",
   "execution_count": 409,
   "metadata": {},
   "outputs": [
    {
     "name": "stdout",
     "output_type": "stream",
     "text": [
      "La presición del modelo es :93.69%\n"
     ]
    }
   ],
   "source": [
    "r_sq = modelo.score(X_train, y_train)\n",
    "print(\"La presición del modelo es :\"+ str(round(r_sq*100,2))+\"%\")"
   ]
  },
  {
   "cell_type": "code",
   "execution_count": 413,
   "metadata": {},
   "outputs": [
    {
     "name": "stdout",
     "output_type": "stream",
     "text": [
      "Intercepción inicio de año 2018: 1.41Gb\n"
     ]
    }
   ],
   "source": [
    "print('Intercepción inicio de año 2019: '+ str(round(modelo.intercept_,2))+\"Gb\")"
   ]
  },
  {
   "cell_type": "code",
   "execution_count": 414,
   "metadata": {},
   "outputs": [
    {
     "name": "stdout",
     "output_type": "stream",
     "text": [
      "Coefficiente: [0.00225453]\n"
     ]
    }
   ],
   "source": [
    "print('Coefficiente:', modelo.coef_)"
   ]
  },
  {
   "cell_type": "code",
   "execution_count": 424,
   "metadata": {},
   "outputs": [
    {
     "name": "stdout",
     "output_type": "stream",
     "text": [
      "Ecuacion : y =1.41 + [0.00225453]x\n"
     ]
    }
   ],
   "source": [
    "print(\"Ecuacion : y =\"+str(round(modelo.intercept_,2))+' + '+str(modelo.coef_)+\"x\")"
   ]
  },
  {
   "cell_type": "code",
   "execution_count": 438,
   "metadata": {},
   "outputs": [
    {
     "name": "stdout",
     "output_type": "stream",
     "text": [
      "Estimación a fin del año 2020 3.05 [Gb]\n"
     ]
    }
   ],
   "source": [
    "print(\"Estimación a fin del año 2020 \"+str(round( 1.41+0.00225*730,2))+\" [Gb]\" )"
   ]
  },
  {
   "cell_type": "code",
   "execution_count": null,
   "metadata": {},
   "outputs": [],
   "source": []
  }
 ],
 "metadata": {
  "kernelspec": {
   "display_name": "Python 3",
   "language": "python",
   "name": "python3"
  },
  "language_info": {
   "codemirror_mode": {
    "name": "ipython",
    "version": 3
   },
   "file_extension": ".py",
   "mimetype": "text/x-python",
   "name": "python",
   "nbconvert_exporter": "python",
   "pygments_lexer": "ipython3",
   "version": "3.7.1"
  }
 },
 "nbformat": 4,
 "nbformat_minor": 2
}
